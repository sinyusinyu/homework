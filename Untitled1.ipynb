{
  "nbformat": 4,
  "nbformat_minor": 0,
  "metadata": {
    "colab": {
      "provenance": []
    },
    "kernelspec": {
      "name": "python3",
      "display_name": "Python 3"
    },
    "language_info": {
      "name": "python"
    }
  },
  "cells": [
    {
      "cell_type": "code",
      "execution_count": null,
      "metadata": {
        "id": "g3waqjiY9KBd"
      },
      "outputs": [],
      "source": []
    },
    {
      "cell_type": "markdown",
      "source": [],
      "metadata": {
        "id": "ubaaxZKC9o0n"
      }
    },
    {
      "cell_type": "code",
      "source": [
        "name=\"陳欣渝\"\n",
        "print(name)\n",
        "print(type(name))\n",
        "code=\"B1205059\"\n",
        "print(code)\n",
        "print(type(code))\n",
        "mydict={\"name\":\"陳欣渝\",\"code\":\"B1205059\"}\n",
        "print(mydict)"
      ],
      "metadata": {
        "colab": {
          "base_uri": "https://localhost:8080/"
        },
        "id": "D9cpGTBa9oJA",
        "outputId": "6355b069-7253-4766-e9c4-3ddb19d0e733"
      },
      "execution_count": 4,
      "outputs": [
        {
          "output_type": "stream",
          "name": "stdout",
          "text": [
            "陳欣渝\n",
            "<class 'str'>\n",
            "B1205059\n",
            "<class 'str'>\n",
            "{'name': '陳欣渝', 'code': 'B1205059'}\n"
          ]
        }
      ]
    },
    {
      "cell_type": "code",
      "source": [],
      "metadata": {
        "id": "9Jt0ZfIX-qGw"
      },
      "execution_count": null,
      "outputs": []
    }
  ]
}